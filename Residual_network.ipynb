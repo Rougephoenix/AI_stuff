{
  "nbformat": 4,
  "nbformat_minor": 0,
  "metadata": {
    "colab": {
      "provenance": [],
      "gpuType": "T4",
      "authorship_tag": "ABX9TyMMYUdBigi9hF0Kh968fLxG",
      "include_colab_link": true
    },
    "kernelspec": {
      "name": "python3",
      "display_name": "Python 3"
    },
    "language_info": {
      "name": "python"
    },
    "accelerator": "GPU"
  },
  "cells": [
    {
      "cell_type": "markdown",
      "metadata": {
        "id": "view-in-github",
        "colab_type": "text"
      },
      "source": [
        "<a href=\"https://colab.research.google.com/github/Rougephoenix/AI_stuff/blob/main/Residual_network.ipynb\" target=\"_parent\"><img src=\"https://colab.research.google.com/assets/colab-badge.svg\" alt=\"Open In Colab\"/></a>"
      ]
    },
    {
      "cell_type": "code",
      "execution_count": null,
      "metadata": {
        "id": "DhmZJntLVEiH"
      },
      "outputs": [],
      "source": [
        "import torch\n",
        "import torch.nn as nn\n",
        "import torchvision\n",
        "import torchvision.transforms as transforms"
      ]
    },
    {
      "cell_type": "code",
      "source": [
        "device = torch.device('cuda' if torch.cuda.is_available() else \"cpu\")"
      ],
      "metadata": {
        "id": "_leZhop_XJZw"
      },
      "execution_count": null,
      "outputs": []
    },
    {
      "cell_type": "code",
      "source": [
        "from torch.utils.data import dataset\n",
        "epochs = 25\n",
        "batch_size = 100\n",
        "lr = 0.001\n",
        "\n",
        "transform = transforms.Compose([transforms.Pad(4),\n",
        "                                transforms.RandomHorizontalFlip(),\n",
        "                                transforms.CenterCrop(32),\n",
        "                                transforms.ToTensor()])\n",
        "\n",
        "train_dataset = torchvision.datasets.CIFAR10(root = \"./root\",train = True,transform = transform,download = True)\n",
        "test_dataset = torchvision.datasets.CIFAR10(root = './root',train = False,transform = transforms.ToTensor(),download = False)\n",
        "\n",
        "train_loader = torch.utils.data.DataLoader(dataset = train_dataset,shuffle = True,batch_size=batch_size)\n",
        "test_loader = torch.utils.data.DataLoader(dataset = test_dataset,shuffle = False,batch_size = batch_size)"
      ],
      "metadata": {
        "colab": {
          "base_uri": "https://localhost:8080/"
        },
        "id": "t0djzHI9XkJo",
        "outputId": "02038f9d-418e-4ccb-d86a-589d51fcdfa3"
      },
      "execution_count": null,
      "outputs": [
        {
          "output_type": "stream",
          "name": "stdout",
          "text": [
            "Downloading https://www.cs.toronto.edu/~kriz/cifar-10-python.tar.gz to ./root/cifar-10-python.tar.gz\n"
          ]
        },
        {
          "output_type": "stream",
          "name": "stderr",
          "text": [
            "100%|██████████| 170498071/170498071 [00:13<00:00, 12650564.57it/s]\n"
          ]
        },
        {
          "output_type": "stream",
          "name": "stdout",
          "text": [
            "Extracting ./root/cifar-10-python.tar.gz to ./root\n"
          ]
        }
      ]
    },
    {
      "cell_type": "code",
      "source": [
        "device"
      ],
      "metadata": {
        "colab": {
          "base_uri": "https://localhost:8080/"
        },
        "id": "6GvIlX50pizv",
        "outputId": "8ee236ee-9196-41d8-c015-8de16205f8c4"
      },
      "execution_count": null,
      "outputs": [
        {
          "output_type": "execute_result",
          "data": {
            "text/plain": [
              "device(type='cuda')"
            ]
          },
          "metadata": {},
          "execution_count": 4
        }
      ]
    },
    {
      "cell_type": "code",
      "source": [
        "def conv3x3(in_channels,out_channels,stride = 1):\n",
        "  return nn.Conv2d(in_channels,out_channels,kernel_size = 3,stride = stride,bias = False,padding=1)\n",
        "\n",
        "class ResidualBlock(nn.Module):\n",
        "  def __init__(self,in_channels,out_channels,stride = 1,downsample = None):\n",
        "    super(ResidualBlock,self).__init__()\n",
        "    self.conv1 = conv3x3(in_channels,out_channels,stride)\n",
        "    self.bn1 = nn.BatchNorm2d(out_channels)\n",
        "    self.relu = nn.ReLU(inplace=True)\n",
        "    self.conv2 = conv3x3(out_channels,out_channels)\n",
        "    self.bn2 = nn.BatchNorm2d(out_channels)\n",
        "    self.downsample = downsample\n",
        "\n",
        "  def forward(self,x):\n",
        "    residual = x\n",
        "    out = self.conv1(x)\n",
        "    out = self.bn1(out)\n",
        "    out = self.relu(out)\n",
        "    out = self.conv2(out)\n",
        "    out = self.bn2(out)\n",
        "    if self.downsample:\n",
        "      residual = self.downsample(x)\n",
        "    out = out + residual\n",
        "    out = self.relu(out)\n",
        "    return out\n"
      ],
      "metadata": {
        "id": "8BuDrdCxXkoR"
      },
      "execution_count": null,
      "outputs": []
    },
    {
      "cell_type": "code",
      "source": [
        "class ResNet(nn.Module):\n",
        "  def __init__(self,block,layers,num_classes=10):\n",
        "    super(ResNet,self).__init__()\n",
        "    self.in_channels = 16\n",
        "    self.conv1 = conv3x3(3,16)\n",
        "    self.bn = nn.BatchNorm2d(16)\n",
        "    self.relu = nn.ReLU(inplace = True)\n",
        "    self.layer1 = self.make_layer(block,16,layers[0])\n",
        "    self.layer2 = self.make_layer(block,32,layers[1],2)\n",
        "    self.layer3 = self.make_layer(block,64,layers[2],2)\n",
        "    self.avg_pool = nn.AvgPool2d(8)\n",
        "    self.fc = nn.Linear(64,num_classes)\n",
        "\n",
        "\n",
        "  def make_layer(self,block, out_channels,blocks,stride = 1):\n",
        "    downsample = None\n",
        "    if (stride != 1) or (self.in_channels != out_channels):\n",
        "      downsample = nn.Sequential(conv3x3(self.in_channels,out_channels,stride = stride),\n",
        "                                 nn.BatchNorm2d(out_channels))\n",
        "    layers = []\n",
        "    layers.append(block(self.in_channels,out_channels,stride,downsample))\n",
        "    self.in_channels = out_channels\n",
        "    for i in range(1,blocks):\n",
        "      layers.append(block(out_channels,out_channels))\n",
        "    return nn.Sequential(*layers)\n",
        "\n",
        "\n",
        "  def forward(self,x):\n",
        "    out = self.conv1(x)\n",
        "    out = self.bn(out)\n",
        "    out = self.relu(out)\n",
        "    out = self.layer1.forward(out)\n",
        "    out = self.layer2.forward(out)\n",
        "    out = self.layer3.forward(out)\n",
        "    out = self.avg_pool(out)\n",
        "    out = out.view(-1,64) #!!!!!!!!!!!!!!!!!!!!!!!!\n",
        "    out = self.fc(out)\n",
        "    return out\n"
      ],
      "metadata": {
        "id": "90D-BheWgD44"
      },
      "execution_count": null,
      "outputs": []
    },
    {
      "cell_type": "code",
      "source": [
        "model = ResNet(ResidualBlock,[2,2,2]).to(device)\n",
        "criterion = nn.CrossEntropyLoss()\n",
        "optimiser = torch.optim.Adam(model.parameters(),lr = lr)"
      ],
      "metadata": {
        "id": "MHhjYsnImV2E"
      },
      "execution_count": null,
      "outputs": []
    },
    {
      "cell_type": "code",
      "source": [
        "decay = 0\n",
        "model.train\n",
        "\n",
        "for epoch in range(epochs):\n",
        "\n",
        "  if (epoch+1)%20 == 0:\n",
        "    decay +=1\n",
        "    optimiser.param_groups[0]['lr'] = lr*(0.05**decay)\n",
        "\n",
        "  for i,(images,labels) in enumerate(train_loader):\n",
        "    images = images.to(device)\n",
        "    labels = labels.to(device)\n",
        "    outputs = model(images)\n",
        "    loss = criterion(outputs,labels)\n",
        "    optimiser.zero_grad()\n",
        "    loss.backward()\n",
        "    optimiser.step()\n",
        "\n",
        "    if (i+1) % 100 == 0:\n",
        "      print(\"Epoch [{}/{}], Step [{}/{}], Loss: {:.4f}\".format(epoch+1,epochs,i+1,len(train_loader),loss.item()))"
      ],
      "metadata": {
        "colab": {
          "base_uri": "https://localhost:8080/"
        },
        "id": "SWNI1hGfm3yX",
        "outputId": "975e42fa-a689-4b79-bded-2e6034e4115b"
      },
      "execution_count": null,
      "outputs": [
        {
          "output_type": "stream",
          "name": "stdout",
          "text": [
            "Epoch [1/25], Step [100/500], Loss: 1.6527\n",
            "Epoch [1/25], Step [200/500], Loss: 1.2913\n",
            "Epoch [1/25], Step [300/500], Loss: 1.4041\n",
            "Epoch [1/25], Step [400/500], Loss: 1.0468\n",
            "Epoch [1/25], Step [500/500], Loss: 1.1140\n",
            "Epoch [2/25], Step [100/500], Loss: 1.0219\n",
            "Epoch [2/25], Step [200/500], Loss: 0.8396\n",
            "Epoch [2/25], Step [300/500], Loss: 0.9808\n",
            "Epoch [2/25], Step [400/500], Loss: 0.8196\n",
            "Epoch [2/25], Step [500/500], Loss: 0.8215\n",
            "Epoch [3/25], Step [100/500], Loss: 0.9307\n",
            "Epoch [3/25], Step [200/500], Loss: 0.7481\n",
            "Epoch [3/25], Step [300/500], Loss: 0.8097\n",
            "Epoch [3/25], Step [400/500], Loss: 0.5884\n",
            "Epoch [3/25], Step [500/500], Loss: 0.7067\n",
            "Epoch [4/25], Step [100/500], Loss: 0.5434\n",
            "Epoch [4/25], Step [200/500], Loss: 0.5775\n",
            "Epoch [4/25], Step [300/500], Loss: 0.5328\n",
            "Epoch [4/25], Step [400/500], Loss: 0.5852\n",
            "Epoch [4/25], Step [500/500], Loss: 0.7512\n",
            "Epoch [5/25], Step [100/500], Loss: 0.4919\n",
            "Epoch [5/25], Step [200/500], Loss: 0.7117\n",
            "Epoch [5/25], Step [300/500], Loss: 0.6510\n",
            "Epoch [5/25], Step [400/500], Loss: 0.3640\n",
            "Epoch [5/25], Step [500/500], Loss: 0.6290\n",
            "Epoch [6/25], Step [100/500], Loss: 0.4049\n",
            "Epoch [6/25], Step [200/500], Loss: 0.5364\n",
            "Epoch [6/25], Step [300/500], Loss: 0.6192\n",
            "Epoch [6/25], Step [400/500], Loss: 0.5746\n",
            "Epoch [6/25], Step [500/500], Loss: 0.4555\n",
            "Epoch [7/25], Step [100/500], Loss: 0.4574\n",
            "Epoch [7/25], Step [200/500], Loss: 0.4535\n",
            "Epoch [7/25], Step [300/500], Loss: 0.5952\n",
            "Epoch [7/25], Step [400/500], Loss: 0.6422\n",
            "Epoch [7/25], Step [500/500], Loss: 0.4501\n",
            "Epoch [8/25], Step [100/500], Loss: 0.4444\n",
            "Epoch [8/25], Step [200/500], Loss: 0.2524\n",
            "Epoch [8/25], Step [300/500], Loss: 0.4652\n",
            "Epoch [8/25], Step [400/500], Loss: 0.5067\n",
            "Epoch [8/25], Step [500/500], Loss: 0.4677\n",
            "Epoch [9/25], Step [100/500], Loss: 0.4364\n",
            "Epoch [9/25], Step [200/500], Loss: 0.3595\n",
            "Epoch [9/25], Step [300/500], Loss: 0.3312\n",
            "Epoch [9/25], Step [400/500], Loss: 0.5894\n",
            "Epoch [9/25], Step [500/500], Loss: 0.4073\n",
            "Epoch [10/25], Step [100/500], Loss: 0.3855\n",
            "Epoch [10/25], Step [200/500], Loss: 0.5425\n",
            "Epoch [10/25], Step [300/500], Loss: 0.2726\n",
            "Epoch [10/25], Step [400/500], Loss: 0.3352\n",
            "Epoch [10/25], Step [500/500], Loss: 0.2544\n",
            "Epoch [11/25], Step [100/500], Loss: 0.2854\n",
            "Epoch [11/25], Step [200/500], Loss: 0.5158\n",
            "Epoch [11/25], Step [300/500], Loss: 0.2993\n",
            "Epoch [11/25], Step [400/500], Loss: 0.4188\n",
            "Epoch [11/25], Step [500/500], Loss: 0.2792\n",
            "Epoch [12/25], Step [100/500], Loss: 0.3202\n",
            "Epoch [12/25], Step [200/500], Loss: 0.3719\n",
            "Epoch [12/25], Step [300/500], Loss: 0.3431\n",
            "Epoch [12/25], Step [400/500], Loss: 0.2697\n",
            "Epoch [12/25], Step [500/500], Loss: 0.3879\n",
            "Epoch [13/25], Step [100/500], Loss: 0.5110\n",
            "Epoch [13/25], Step [200/500], Loss: 0.3251\n",
            "Epoch [13/25], Step [300/500], Loss: 0.3043\n",
            "Epoch [13/25], Step [400/500], Loss: 0.3315\n",
            "Epoch [13/25], Step [500/500], Loss: 0.3034\n",
            "Epoch [14/25], Step [100/500], Loss: 0.2298\n",
            "Epoch [14/25], Step [200/500], Loss: 0.3658\n",
            "Epoch [14/25], Step [300/500], Loss: 0.2958\n",
            "Epoch [14/25], Step [400/500], Loss: 0.2445\n",
            "Epoch [14/25], Step [500/500], Loss: 0.2931\n",
            "Epoch [15/25], Step [100/500], Loss: 0.3151\n",
            "Epoch [15/25], Step [200/500], Loss: 0.2476\n",
            "Epoch [15/25], Step [300/500], Loss: 0.1958\n",
            "Epoch [15/25], Step [400/500], Loss: 0.4342\n",
            "Epoch [15/25], Step [500/500], Loss: 0.3760\n",
            "Epoch [16/25], Step [100/500], Loss: 0.2621\n",
            "Epoch [16/25], Step [200/500], Loss: 0.3045\n",
            "Epoch [16/25], Step [300/500], Loss: 0.3146\n",
            "Epoch [16/25], Step [400/500], Loss: 0.2762\n",
            "Epoch [16/25], Step [500/500], Loss: 0.4162\n",
            "Epoch [17/25], Step [100/500], Loss: 0.2894\n",
            "Epoch [17/25], Step [200/500], Loss: 0.2534\n",
            "Epoch [17/25], Step [300/500], Loss: 0.1647\n",
            "Epoch [17/25], Step [400/500], Loss: 0.2784\n",
            "Epoch [17/25], Step [500/500], Loss: 0.3220\n",
            "Epoch [18/25], Step [100/500], Loss: 0.1667\n",
            "Epoch [18/25], Step [200/500], Loss: 0.3595\n",
            "Epoch [18/25], Step [300/500], Loss: 0.3436\n",
            "Epoch [18/25], Step [400/500], Loss: 0.3645\n",
            "Epoch [18/25], Step [500/500], Loss: 0.2593\n",
            "Epoch [19/25], Step [100/500], Loss: 0.1270\n",
            "Epoch [19/25], Step [200/500], Loss: 0.2386\n",
            "Epoch [19/25], Step [300/500], Loss: 0.2556\n",
            "Epoch [19/25], Step [400/500], Loss: 0.2575\n",
            "Epoch [19/25], Step [500/500], Loss: 0.2576\n",
            "Epoch [20/25], Step [100/500], Loss: 0.2024\n",
            "Epoch [20/25], Step [200/500], Loss: 0.1942\n",
            "Epoch [20/25], Step [300/500], Loss: 0.1264\n",
            "Epoch [20/25], Step [400/500], Loss: 0.1679\n",
            "Epoch [20/25], Step [500/500], Loss: 0.1329\n",
            "Epoch [21/25], Step [100/500], Loss: 0.1148\n",
            "Epoch [21/25], Step [200/500], Loss: 0.1165\n",
            "Epoch [21/25], Step [300/500], Loss: 0.1989\n",
            "Epoch [21/25], Step [400/500], Loss: 0.1286\n",
            "Epoch [21/25], Step [500/500], Loss: 0.1377\n",
            "Epoch [22/25], Step [100/500], Loss: 0.0935\n",
            "Epoch [22/25], Step [200/500], Loss: 0.1290\n",
            "Epoch [22/25], Step [300/500], Loss: 0.1170\n",
            "Epoch [22/25], Step [400/500], Loss: 0.2286\n",
            "Epoch [22/25], Step [500/500], Loss: 0.1050\n",
            "Epoch [23/25], Step [100/500], Loss: 0.1432\n",
            "Epoch [23/25], Step [200/500], Loss: 0.1603\n",
            "Epoch [23/25], Step [300/500], Loss: 0.1440\n",
            "Epoch [23/25], Step [400/500], Loss: 0.1250\n",
            "Epoch [23/25], Step [500/500], Loss: 0.1867\n",
            "Epoch [24/25], Step [100/500], Loss: 0.1387\n",
            "Epoch [24/25], Step [200/500], Loss: 0.1663\n",
            "Epoch [24/25], Step [300/500], Loss: 0.1347\n",
            "Epoch [24/25], Step [400/500], Loss: 0.1123\n",
            "Epoch [24/25], Step [500/500], Loss: 0.1533\n",
            "Epoch [25/25], Step [100/500], Loss: 0.0978\n",
            "Epoch [25/25], Step [200/500], Loss: 0.0593\n",
            "Epoch [25/25], Step [300/500], Loss: 0.1103\n",
            "Epoch [25/25], Step [400/500], Loss: 0.0762\n",
            "Epoch [25/25], Step [500/500], Loss: 0.1476\n"
          ]
        }
      ]
    },
    {
      "cell_type": "code",
      "source": [
        "#Test the model\n",
        "model.eval()\n",
        "with torch.no_grad():\n",
        "    correct = 0\n",
        "    total = 0\n",
        "    for images, labels in test_loader:\n",
        "        images = images.to(device)\n",
        "        labels = labels.to(device)\n",
        "        outputs = model(images)\n",
        "        _, predicted = torch.max(outputs.data, 1)\n",
        "        total += labels.size(0)\n",
        "        correct += (predicted == labels).sum().item()\n",
        "\n",
        "    print('Accuracy of the model on the test images: {} %'.format(100 * correct / total))"
      ],
      "metadata": {
        "colab": {
          "base_uri": "https://localhost:8080/"
        },
        "id": "OoPx9f7aH0T-",
        "outputId": "80807988-d924-4280-c3e1-17d3ed234bea"
      },
      "execution_count": null,
      "outputs": [
        {
          "output_type": "stream",
          "name": "stdout",
          "text": [
            "Accuracy of the model on the test images: 86.56 %\n"
          ]
        }
      ]
    },
    {
      "cell_type": "code",
      "source": [
        "model.eval()\n",
        "\n",
        "with torch.no_grad():\n",
        "  correct = 0\n",
        "  total = 0\n",
        "  for images,labels in test_loader:\n",
        "    images = images.to(device)\n",
        "    labels = labels.to(device)\n",
        "    outputs = model(images)\n",
        "\n",
        "    _,predicted = torch.max(outputs.data,1)\n",
        "    total += labels.size(0)\n",
        "    correct += (predicted == labels).sum().item()\n",
        "\n",
        "  accuracy = correct/total * 100\n",
        "  print(accuracy)"
      ],
      "metadata": {
        "id": "U3szEXiTpmXX",
        "colab": {
          "base_uri": "https://localhost:8080/"
        },
        "outputId": "612bc7d9-f588-4308-86f9-029802a91c35"
      },
      "execution_count": null,
      "outputs": [
        {
          "output_type": "stream",
          "name": "stdout",
          "text": [
            "86.56\n"
          ]
        }
      ]
    },
    {
      "cell_type": "code",
      "source": [],
      "metadata": {
        "id": "a37IWhYkHsNc"
      },
      "execution_count": null,
      "outputs": []
    }
  ]
}